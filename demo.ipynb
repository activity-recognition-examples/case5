{
 "cells": [
  {
   "cell_type": "markdown",
   "id": "01e594eb-6f05-4b50-9ad9-6f950c5f8e2a",
   "metadata": {},
   "source": [
    "# データ準備"
   ]
  },
  {
   "cell_type": "code",
   "execution_count": null,
   "id": "c8b7e164-a63f-4d5d-9aa6-5b841bd1c385",
   "metadata": {},
   "outputs": [],
   "source": [
    "import pandas as pd"
   ]
  },
  {
   "cell_type": "code",
   "execution_count": null,
   "id": "ce77175f-0814-4c65-b66a-8734177e0c81",
   "metadata": {},
   "outputs": [],
   "source": [
    "X_df = pd.read_pickle(\"demo_X.pickle\")\n",
    "y_df = pd.read_pickle(\"demo_y.pickle\")"
   ]
  },
  {
   "cell_type": "markdown",
   "id": "ef6fab69-2be0-47be-9010-81fd0fd0048b",
   "metadata": {},
   "source": [
    "# データ確認"
   ]
  },
  {
   "cell_type": "code",
   "execution_count": null,
   "id": "aacfbcda-a0be-4bfd-a513-78690ac4f0c1",
   "metadata": {},
   "outputs": [],
   "source": [
    "# 10秒ごとにリサンプリングされたデータが格納\n",
    "# 機械学習における説明変数（特徴量）を表示\n",
    "X_df.head(3)"
   ]
  },
  {
   "cell_type": "code",
   "execution_count": null,
   "id": "688a03d0-9b50-4a6d-81f2-09756f75a7b7",
   "metadata": {},
   "outputs": [],
   "source": [
    "# 特徴量に対応する目的変数を表示\n",
    "y_df.head(3)"
   ]
  },
  {
   "cell_type": "markdown",
   "id": "e3654230-7172-46a3-a356-7b3c51dd8ec5",
   "metadata": {},
   "source": [
    "# 機械学習モデル構築"
   ]
  },
  {
   "cell_type": "code",
   "execution_count": null,
   "id": "9346b659-b62a-448d-8037-a46751bc98c7",
   "metadata": {},
   "outputs": [],
   "source": [
    "from sklearn.tree import DecisionTreeClassifier\n",
    "from sklearn.ensemble import RandomForestClassifier\n",
    "from sklearn.linear_model import LogisticRegression\n",
    "from sklearn.neural_network import MLPClassifier\n",
    "\n",
    "\n",
    "from sklearn.model_selection import train_test_split\n",
    "\n",
    "# 今回は入浴をターゲット行動と定義\n",
    "# 別の行動をターゲット行動にすることも可能\n",
    "target_act = \"BATHE\"\n",
    "\n",
    "X_train, X_test, y_train, y_test = train_test_split(X_df.values, y_df[target_act].values, shuffle=False)\n",
    "\n",
    "decision_tree = DecisionTreeClassifier()\n",
    "random_forest = RandomForestClassifier()\n",
    "logistic_regression = LogisticRegression(max_iter=1000)\n",
    "mlp = MLPClassifier(early_stopping=True)\n",
    "\n",
    "decision_tree.fit(X_train, y_train)\n",
    "print(\"決定木の学習完了\")\n",
    "random_forest.fit(X_train, y_train)\n",
    "print(\"ランダムフォレストの学習完了\")\n",
    "logistic_regression.fit(X_train, y_train)\n",
    "print(\"ロジスティック回帰の学習完了\")\n",
    "mlp.fit(X_train, y_train)\n",
    "print(\"ニューラルネットワークの学習完了\")\n"
   ]
  },
  {
   "cell_type": "markdown",
   "id": "b546528b-4a7b-48ed-8ed5-ddd3126a181d",
   "metadata": {},
   "source": [
    "# モデル性能評価"
   ]
  },
  {
   "cell_type": "markdown",
   "id": "4aea6407-8b54-403a-a4f2-527d59953a66",
   "metadata": {},
   "source": [
    "## 決定木"
   ]
  },
  {
   "cell_type": "code",
   "execution_count": null,
   "id": "e5f3eab9-ab7f-49ce-af8f-4349df64145d",
   "metadata": {},
   "outputs": [],
   "source": [
    "from sklearn.metrics import classification_report\n",
    "\n",
    "y_pred = decision_tree.predict(X_test)\n",
    "\n",
    "print(classification_report(y_test, y_pred, target_names=[\"not act\", \"in-act\"]))"
   ]
  },
  {
   "cell_type": "markdown",
   "id": "3b4c6add-4f87-419b-9f42-053c9da0f457",
   "metadata": {},
   "source": [
    "## ランダムフォレスト"
   ]
  },
  {
   "cell_type": "code",
   "execution_count": null,
   "id": "5fb62ef8-d672-4a9d-8edd-d686b2604bc0",
   "metadata": {},
   "outputs": [],
   "source": [
    "y_pred = random_forest.predict(X_test)\n",
    "\n",
    "print(classification_report(y_test, y_pred, target_names=[\"not act\", \"in-act\"]))"
   ]
  },
  {
   "cell_type": "markdown",
   "id": "ae6a19b7-efde-4c63-b7ef-82d45b24310f",
   "metadata": {},
   "source": [
    "## ロジスティック回帰"
   ]
  },
  {
   "cell_type": "code",
   "execution_count": null,
   "id": "5bda6224-20b6-42f3-9179-567d96cd74ae",
   "metadata": {},
   "outputs": [],
   "source": [
    "y_pred = logistic_regression.predict(X_test)\n",
    "\n",
    "print(classification_report(y_test, y_pred, target_names=[\"not act\", \"in-act\"]))"
   ]
  },
  {
   "cell_type": "markdown",
   "id": "1d395bbb-b255-4dfa-bcb6-96d4c28aebc7",
   "metadata": {},
   "source": [
    "## ニューラルネットワーク"
   ]
  },
  {
   "cell_type": "code",
   "execution_count": null,
   "id": "6ddfcc81-fea3-4fdf-98fe-a1860f91d1f7",
   "metadata": {},
   "outputs": [],
   "source": [
    "y_pred = mlp.predict(X_test)\n",
    "\n",
    "print(classification_report(y_test, y_pred, target_names=[\"not act\", \"in-act\"]))"
   ]
  },
  {
   "cell_type": "code",
   "execution_count": null,
   "id": "363f68d3-b921-42f7-b1c3-33b85ec80871",
   "metadata": {},
   "outputs": [],
   "source": []
  },
  {
   "cell_type": "code",
   "execution_count": null,
   "id": "fb67231c",
   "metadata": {},
   "outputs": [],
   "source": []
  },
  {
   "cell_type": "code",
   "execution_count": null,
   "id": "86794ddf",
   "metadata": {},
   "outputs": [],
   "source": []
  }
 ],
 "metadata": {
  "kernelspec": {
   "display_name": "Python 3 (ipykernel)",
   "language": "python",
   "name": "python3"
  },
  "language_info": {
   "codemirror_mode": {
    "name": "ipython",
    "version": 3
   },
   "file_extension": ".py",
   "mimetype": "text/x-python",
   "name": "python",
   "nbconvert_exporter": "python",
   "pygments_lexer": "ipython3",
   "version": "3.11.7"
  }
 },
 "nbformat": 4,
 "nbformat_minor": 5
}
